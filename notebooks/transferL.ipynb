{
 "cells": [
  {
   "cell_type": "code",
   "id": "initial_id",
   "metadata": {
    "collapsed": true,
    "ExecuteTime": {
     "end_time": "2025-08-22T20:19:30.604466Z",
     "start_time": "2025-08-22T20:19:23.931020Z"
    }
   },
   "source": [
    "import tensorflow as tf\n",
    "import pandas as pd\n",
    "import matplotlib.pyplot as plt\n",
    "from tensorflow.keras.preprocessing.image import ImageDataGenerator\n",
    "from tensorflow.keras.callbacks import ReduceLROnPlateau\n",
    "from tensorflow.keras.layers import Input, Lambda, Dense, Flatten\n",
    "from tensorflow.keras.models import Model\n",
    "from tensorflow.keras.applications.inception_v3 import InceptionV3\n",
    "from tensorflow.keras.applications.inception_v3 import preprocess_input\n",
    "from tensorflow.keras.preprocessing import image\n",
    "from tensorflow.keras.preprocessing.image import ImageDataGenerator,load_img\n",
    "from tensorflow.keras.models import Sequential\n",
    "import numpy as np\n",
    "from glob import glob"
   ],
   "outputs": [],
   "execution_count": 1
  },
  {
   "metadata": {
    "ExecuteTime": {
     "end_time": "2025-08-23T12:14:58.052777Z",
     "start_time": "2025-08-23T12:14:56.249537Z"
    }
   },
   "cell_type": "code",
   "source": [
    "train_dir = \"D:/robo-sumr-2025/project/data/asl_alphabet_train\"\n",
    "val_dir   = \"D:/robo-sumr-2025/project/data/asl_alphabet_test\"\n",
    "\n",
    "train_datagen = ImageDataGenerator(\n",
    "    rescale=1./255,\n",
    "    rotation_range=20,\n",
    "    zoom_range=0.2,\n",
    "    width_shift_range=0.2,\n",
    "    height_shift_range=0.2,\n",
    "    horizontal_flip=True,\n",
    "    validation_split=0.2\n",
    ")\n",
    "\n",
    "train_generator = train_datagen.flow_from_directory(\n",
    "    train_dir,\n",
    "    target_size=(128, 128),\n",
    "    color_mode=\"rgb\",\n",
    "    batch_size=32,\n",
    "    class_mode=\"categorical\",\n",
    "    subset=\"training\"\n",
    ")\n",
    "\n",
    "test_datagen = ImageDataGenerator(rescale=1./255)\n",
    "\n",
    "val_generator = test_datagen.flow_from_directory(\n",
    "    val_dir,\n",
    "    target_size=(128, 128),\n",
    "    color_mode=\"rgb\",\n",
    "    batch_size=32,\n",
    "    class_mode=\"categorical\"\n",
    ")\n"
   ],
   "id": "84d0229628adbdae",
   "outputs": [
    {
     "name": "stdout",
     "output_type": "stream",
     "text": [
      "Found 67200 images belonging to 28 classes.\n",
      "Found 28 images belonging to 28 classes.\n"
     ]
    }
   ],
   "execution_count": 23
  },
  {
   "metadata": {
    "ExecuteTime": {
     "end_time": "2025-08-23T12:22:11.424323Z",
     "start_time": "2025-08-23T12:22:10.197765Z"
    }
   },
   "cell_type": "code",
   "source": [
    "from keras.src.applications.mobilenet_v2 import MobileNetV2\n",
    "\n",
    "base_model = MobileNetV2(weights=\"imagenet\", include_top=False, input_shape=(128,128,3))\n",
    "base_model.trainable = False\n"
   ],
   "id": "dd97a0858cad95a9",
   "outputs": [],
   "execution_count": 24
  },
  {
   "metadata": {
    "ExecuteTime": {
     "end_time": "2025-08-23T12:22:12.355351Z",
     "start_time": "2025-08-23T12:22:12.314085Z"
    }
   },
   "cell_type": "code",
   "source": [
    "from tensorflow.keras import Model\n",
    "from tensorflow.keras.layers import Conv2D, Dense, MaxPooling2D, Dropout, Flatten,GlobalAveragePooling2D\n",
    "from tensorflow.keras.models import Sequential\n",
    "\n",
    "x = base_model.output\n",
    "x = GlobalAveragePooling2D()(x)\n",
    "x = Dropout(0.5)(x)\n",
    "preds = Dense(train_generator.num_classes, activation=\"softmax\")(x)\n",
    "\n",
    "model = Model(inputs=base_model.input, outputs=preds)\n"
   ],
   "id": "7987fdd5c16cd66a",
   "outputs": [],
   "execution_count": 25
  },
  {
   "metadata": {
    "ExecuteTime": {
     "end_time": "2025-08-23T12:22:13.582705Z",
     "start_time": "2025-08-23T12:22:13.560966Z"
    }
   },
   "cell_type": "code",
   "source": [
    "model.compile(optimizer=tf.keras.optimizers.Adam(learning_rate=0.0001),\n",
    "              loss=\"categorical_crossentropy\",\n",
    "              metrics=[\"accuracy\"])\n"
   ],
   "id": "48deed8872f6c14a",
   "outputs": [],
   "execution_count": 26
  },
  {
   "metadata": {
    "ExecuteTime": {
     "end_time": "2025-08-23T14:12:16.063607Z",
     "start_time": "2025-08-23T12:22:14.375683Z"
    }
   },
   "cell_type": "code",
   "source": [
    "history = model.fit(\n",
    "    train_generator,\n",
    "    validation_data=val_generator,\n",
    "    epochs=10\n",
    ")\n"
   ],
   "id": "da6a6ad882fc0940",
   "outputs": [
    {
     "name": "stdout",
     "output_type": "stream",
     "text": [
      "Epoch 1/10\n",
      "\u001B[1m2100/2100\u001B[0m \u001B[32m━━━━━━━━━━━━━━━━━━━━\u001B[0m\u001B[37m\u001B[0m \u001B[1m629s\u001B[0m 297ms/step - accuracy: 0.3024 - loss: 2.5704 - val_accuracy: 0.9286 - val_loss: 0.5573\n",
      "Epoch 2/10\n",
      "\u001B[1m2100/2100\u001B[0m \u001B[32m━━━━━━━━━━━━━━━━━━━━\u001B[0m\u001B[37m\u001B[0m \u001B[1m608s\u001B[0m 290ms/step - accuracy: 0.5644 - loss: 1.4418 - val_accuracy: 0.9643 - val_loss: 0.3171\n",
      "Epoch 3/10\n",
      "\u001B[1m2100/2100\u001B[0m \u001B[32m━━━━━━━━━━━━━━━━━━━━\u001B[0m\u001B[37m\u001B[0m \u001B[1m655s\u001B[0m 312ms/step - accuracy: 0.6539 - loss: 1.1453 - val_accuracy: 0.9643 - val_loss: 0.2331\n",
      "Epoch 4/10\n",
      "\u001B[1m2100/2100\u001B[0m \u001B[32m━━━━━━━━━━━━━━━━━━━━\u001B[0m\u001B[37m\u001B[0m \u001B[1m650s\u001B[0m 309ms/step - accuracy: 0.7005 - loss: 0.9931 - val_accuracy: 0.9643 - val_loss: 0.1951\n",
      "Epoch 5/10\n",
      "\u001B[1m2100/2100\u001B[0m \u001B[32m━━━━━━━━━━━━━━━━━━━━\u001B[0m\u001B[37m\u001B[0m \u001B[1m689s\u001B[0m 328ms/step - accuracy: 0.7273 - loss: 0.9025 - val_accuracy: 0.9643 - val_loss: 0.1768\n",
      "Epoch 6/10\n",
      "\u001B[1m2100/2100\u001B[0m \u001B[32m━━━━━━━━━━━━━━━━━━━━\u001B[0m\u001B[37m\u001B[0m \u001B[1m676s\u001B[0m 322ms/step - accuracy: 0.7438 - loss: 0.8464 - val_accuracy: 0.9643 - val_loss: 0.1596\n",
      "Epoch 7/10\n",
      "\u001B[1m2100/2100\u001B[0m \u001B[32m━━━━━━━━━━━━━━━━━━━━\u001B[0m\u001B[37m\u001B[0m \u001B[1m638s\u001B[0m 304ms/step - accuracy: 0.7518 - loss: 0.8195 - val_accuracy: 0.9643 - val_loss: 0.1516\n",
      "Epoch 8/10\n",
      "\u001B[1m2100/2100\u001B[0m \u001B[32m━━━━━━━━━━━━━━━━━━━━\u001B[0m\u001B[37m\u001B[0m \u001B[1m671s\u001B[0m 320ms/step - accuracy: 0.7634 - loss: 0.7838 - val_accuracy: 0.9643 - val_loss: 0.1259\n",
      "Epoch 9/10\n",
      "\u001B[1m2100/2100\u001B[0m \u001B[32m━━━━━━━━━━━━━━━━━━━━\u001B[0m\u001B[37m\u001B[0m \u001B[1m676s\u001B[0m 322ms/step - accuracy: 0.7695 - loss: 0.7561 - val_accuracy: 0.9643 - val_loss: 0.1262\n",
      "Epoch 10/10\n",
      "\u001B[1m2100/2100\u001B[0m \u001B[32m━━━━━━━━━━━━━━━━━━━━\u001B[0m\u001B[37m\u001B[0m \u001B[1m708s\u001B[0m 337ms/step - accuracy: 0.7732 - loss: 0.7477 - val_accuracy: 0.9643 - val_loss: 0.1221\n"
     ]
    }
   ],
   "execution_count": 27
  },
  {
   "metadata": {
    "ExecuteTime": {
     "end_time": "2025-08-23T14:14:24.546227Z",
     "start_time": "2025-08-23T14:14:23.983291Z"
    }
   },
   "cell_type": "code",
   "source": "model.save(\"my_model.h5\")",
   "id": "5a10e9b1191b5964",
   "outputs": [
    {
     "name": "stderr",
     "output_type": "stream",
     "text": [
      "WARNING:absl:You are saving your model as an HDF5 file via `model.save()` or `keras.saving.save_model(model)`. This file format is considered legacy. We recommend using instead the native Keras format, e.g. `model.save('my_model.keras')` or `keras.saving.save_model(model, 'my_model.keras')`. \n"
     ]
    }
   ],
   "execution_count": 28
  },
  {
   "metadata": {
    "ExecuteTime": {
     "end_time": "2025-08-23T14:16:07.150743Z",
     "start_time": "2025-08-23T14:16:07.138771Z"
    }
   },
   "cell_type": "code",
   "source": [
    "#########################\n",
    "import numpy as np\n",
    "from tensorflow.keras.preprocessing import image\n",
    "\n",
    "class_labels = list(train_generator.class_indices.keys())\n",
    "\n",
    "def predict_image(img_path):\n",
    "    img = image.load_img(img_path, target_size=(128,128))\n",
    "    img_array = image.img_to_array(img) / 255.0\n",
    "    img_array = np.expand_dims(img_array, axis=0)\n",
    "\n",
    "    preds = model.predict(img_array)\n",
    "    predicted_class = np.argmax(preds, axis=1)[0]\n",
    "    confidence = np.max(preds)\n",
    "\n",
    "    return class_labels[predicted_class], confidence\n"
   ],
   "id": "d0c05ff20b6725f7",
   "outputs": [],
   "execution_count": 29
  },
  {
   "metadata": {
    "ExecuteTime": {
     "end_time": "2025-08-23T14:28:06.650979Z",
     "start_time": "2025-08-23T14:28:06.500117Z"
    }
   },
   "cell_type": "code",
   "source": [
    "test_img = \"D:/robo-sumr-2025/project/data/asl_alphabet_test/A/A_test.jpg\"\n",
    "\n",
    "test_img2 = \"C:/Users/zyads/Desktop/NN.jpg\"\n",
    "\n",
    "label, conf = predict_image(test_img2)\n",
    "print(f\"Predicted: {label} ({conf*100:.2f}% confidence)\")\n"
   ],
   "id": "6ec2185f7b58ec05",
   "outputs": [
    {
     "name": "stdout",
     "output_type": "stream",
     "text": [
      "\u001B[1m1/1\u001B[0m \u001B[32m━━━━━━━━━━━━━━━━━━━━\u001B[0m\u001B[37m\u001B[0m \u001B[1m0s\u001B[0m 71ms/step\n",
      "Predicted: S (66.80% confidence)\n"
     ]
    }
   ],
   "execution_count": 46
  },
  {
   "metadata": {},
   "cell_type": "code",
   "outputs": [],
   "execution_count": null,
   "source": "",
   "id": "ad414deb1128a1ca"
  }
 ],
 "metadata": {
  "kernelspec": {
   "display_name": "Python 3",
   "language": "python",
   "name": "python3"
  },
  "language_info": {
   "codemirror_mode": {
    "name": "ipython",
    "version": 2
   },
   "file_extension": ".py",
   "mimetype": "text/x-python",
   "name": "python",
   "nbconvert_exporter": "python",
   "pygments_lexer": "ipython2",
   "version": "2.7.6"
  }
 },
 "nbformat": 4,
 "nbformat_minor": 5
}
