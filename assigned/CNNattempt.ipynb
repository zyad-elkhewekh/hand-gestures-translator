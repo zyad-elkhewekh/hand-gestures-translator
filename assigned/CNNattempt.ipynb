{
 "cells": [
  {
   "cell_type": "code",
   "id": "initial_id",
   "metadata": {
    "collapsed": true,
    "ExecuteTime": {
     "end_time": "2025-08-22T18:11:31.396210Z",
     "start_time": "2025-08-22T18:11:16.171813Z"
    }
   },
   "source": [
    "import tensorflow as tf\n",
    "from tensorflow.keras import layers, models\n",
    "\n",
    "IMG_SIZE = (64, 64)\n",
    "\n",
    "train_ds = tf.keras.utils.image_dataset_from_directory(\n",
    "    \"D:/robo-sumr-2025/project/data/asl_alphabet_train\",\n",
    "    image_size=IMG_SIZE,\n",
    "    batch_size=32,\n",
    "    label_mode=\"int\"\n",
    ")\n",
    "val_ds = tf.keras.utils.image_dataset_from_directory(\n",
    "    \"D:/robo-sumr-2025/project/data/asl_alphabet_test\",\n",
    "    image_size=IMG_SIZE,\n",
    "    batch_size=32,\n",
    "    label_mode=\"int\"\n",
    ")"
   ],
   "outputs": [
    {
     "name": "stdout",
     "output_type": "stream",
     "text": [
      "Found 84000 files belonging to 28 classes.\n",
      "Found 28 files belonging to 28 classes.\n"
     ]
    }
   ],
   "execution_count": 2
  },
  {
   "metadata": {
    "ExecuteTime": {
     "end_time": "2025-08-22T18:12:05.041352Z",
     "start_time": "2025-08-22T18:11:33.227383Z"
    }
   },
   "cell_type": "code",
   "source": [
    "import numpy as np\n",
    "\n",
    "x_train, y_train = [], []\n",
    "for images, labels in train_ds:\n",
    "    x_train.append(images.numpy())\n",
    "    y_train.append(labels.numpy())\n",
    "\n",
    "x_val, y_val = [], []\n",
    "for images, labels in val_ds:\n",
    "    x_val.append(images.numpy())\n",
    "    y_val.append(labels.numpy())\n",
    "\n",
    "x_train = np.vstack(x_train)\n",
    "y_train = np.hstack(y_train)\n",
    "\n",
    "x_val = np.vstack(x_val)\n",
    "y_val = np.hstack(y_val)"
   ],
   "id": "5e148000a8e3d3ae",
   "outputs": [],
   "execution_count": 3
  },
  {
   "metadata": {
    "ExecuteTime": {
     "end_time": "2025-08-22T18:12:09.294300Z",
     "start_time": "2025-08-22T18:12:07.061786Z"
    }
   },
   "cell_type": "code",
   "source": [
    "x_train = x_train / 255.0\n",
    "x_test = x_val / 255.0"
   ],
   "id": "67b1de4199ef536c",
   "outputs": [],
   "execution_count": 4
  },
  {
   "metadata": {
    "ExecuteTime": {
     "end_time": "2025-08-22T18:12:10.317804Z",
     "start_time": "2025-08-22T18:12:10.307524Z"
    }
   },
   "cell_type": "code",
   "source": [
    "from tensorflow.python.keras.utils.np_utils import to_categorical\n",
    "\n",
    "num_classes = len(train_ds.class_names)\n",
    "\n",
    "y_train = to_categorical(y_train, num_classes)\n",
    "y_test  = to_categorical(y_val, num_classes)"
   ],
   "id": "47e49489568453b4",
   "outputs": [],
   "execution_count": 5
  },
  {
   "metadata": {
    "ExecuteTime": {
     "end_time": "2025-08-22T18:12:11.967944Z",
     "start_time": "2025-08-22T18:12:11.831631Z"
    }
   },
   "cell_type": "code",
   "source": [
    "from tensorflow.keras.models import Sequential\n",
    "from tensorflow.keras.layers import Dense, Conv2D, MaxPool2D, Flatten, Dropout, BatchNormalization\n",
    "from sklearn.metrics import classification_report, confusion_matrix"
   ],
   "id": "aa291ae7b8183f07",
   "outputs": [],
   "execution_count": 6
  },
  {
   "metadata": {
    "ExecuteTime": {
     "end_time": "2025-08-22T18:12:13.140239Z",
     "start_time": "2025-08-22T18:12:13.035734Z"
    }
   },
   "cell_type": "code",
   "source": [
    "model = Sequential()\n",
    "\n",
    "model.add(Conv2D(filters=32, kernel_size=(4, 4), input_shape=(64, 64, 3), activation='relu', padding='same'))\n",
    "model.add(BatchNormalization())\n",
    "model.add(Conv2D(filters=32, kernel_size=(4, 4), input_shape=(64, 64, 3), activation='relu', padding='same'))\n",
    "model.add(BatchNormalization())\n",
    "\n",
    "model.add(MaxPool2D(pool_size=(2, 2)))\n",
    "\n",
    "model.add(Dropout(0.25))"
   ],
   "id": "d9f0dd36c84edc47",
   "outputs": [
    {
     "name": "stderr",
     "output_type": "stream",
     "text": [
      "D:\\robo-sumr-2025\\project\\.venv\\Lib\\site-packages\\keras\\src\\layers\\convolutional\\base_conv.py:113: UserWarning: Do not pass an `input_shape`/`input_dim` argument to a layer. When using Sequential models, prefer using an `Input(shape)` object as the first layer in the model instead.\n",
      "  super().__init__(activity_regularizer=activity_regularizer, **kwargs)\n"
     ]
    }
   ],
   "execution_count": 7
  },
  {
   "metadata": {
    "ExecuteTime": {
     "end_time": "2025-08-22T18:12:14.632069Z",
     "start_time": "2025-08-22T18:12:14.621200Z"
    }
   },
   "cell_type": "code",
   "source": "model.add(Flatten())",
   "id": "9663c3477e5f90d2",
   "outputs": [],
   "execution_count": 8
  },
  {
   "metadata": {
    "ExecuteTime": {
     "end_time": "2025-08-22T18:12:15.788582Z",
     "start_time": "2025-08-22T18:12:15.721750Z"
    }
   },
   "cell_type": "code",
   "source": [
    "model.add(Dense(256, activation='relu'))\n",
    "model.add(Dropout(0.25))\n",
    "model.add(Dense(28, activation='softmax'))"
   ],
   "id": "f46a973b4b641f3b",
   "outputs": [],
   "execution_count": 9
  },
  {
   "metadata": {
    "ExecuteTime": {
     "end_time": "2025-08-22T18:12:16.751558Z",
     "start_time": "2025-08-22T18:12:16.732359Z"
    }
   },
   "cell_type": "code",
   "source": "model.compile(loss='categorical_crossentropy', optimizer='rmsprop', metrics=['accuracy'])",
   "id": "9f0ba8e1f319edf2",
   "outputs": [],
   "execution_count": 10
  },
  {
   "metadata": {
    "ExecuteTime": {
     "end_time": "2025-08-22T18:30:53.505470Z",
     "start_time": "2025-08-22T18:12:17.703105Z"
    }
   },
   "cell_type": "code",
   "source": [
    "final = model.fit(x_train, y_train,\n",
    "              epochs=2,\n",
    "              batch_size=64,\n",
    "              validation_split=0.2,\n",
    "              )"
   ],
   "id": "7cd915eacf99de16",
   "outputs": [
    {
     "name": "stdout",
     "output_type": "stream",
     "text": [
      "Epoch 1/2\n",
      "\u001B[1m1050/1050\u001B[0m \u001B[32m━━━━━━━━━━━━━━━━━━━━\u001B[0m\u001B[37m\u001B[0m \u001B[1m547s\u001B[0m 520ms/step - accuracy: 0.3394 - loss: 2.3759 - val_accuracy: 0.5866 - val_loss: 1.2903\n",
      "Epoch 2/2\n",
      "\u001B[1m1050/1050\u001B[0m \u001B[32m━━━━━━━━━━━━━━━━━━━━\u001B[0m\u001B[37m\u001B[0m \u001B[1m567s\u001B[0m 540ms/step - accuracy: 0.6012 - loss: 1.2454 - val_accuracy: 0.5284 - val_loss: 4.3172\n"
     ]
    }
   ],
   "execution_count": 11
  },
  {
   "metadata": {
    "ExecuteTime": {
     "end_time": "2025-08-22T18:36:23.058482Z",
     "start_time": "2025-08-22T18:36:22.908427Z"
    }
   },
   "cell_type": "code",
   "source": [
    "import matplotlib.pyplot as plt\n",
    "my_image = x_test[18]\n",
    "plt.imshow(my_image)"
   ],
   "id": "780f22b1872cb71b",
   "outputs": [
    {
     "data": {
      "text/plain": [
       "<matplotlib.image.AxesImage at 0x21b59097ed0>"
      ]
     },
     "execution_count": 26,
     "metadata": {},
     "output_type": "execute_result"
    },
    {
     "data": {
      "text/plain": [
       "<Figure size 640x480 with 1 Axes>"
      ],
      "image/png": "[encoded data removed]"
     },
     "metadata": {},
     "output_type": "display_data"
    }
   ],
   "execution_count": 26
  },
  {
   "metadata": {
    "ExecuteTime": {
     "end_time": "2025-08-22T18:36:25.406042Z",
     "start_time": "2025-08-22T18:36:25.399143Z"
    }
   },
   "cell_type": "code",
   "source": "y_test[18]",
   "id": "75c7f28d9ab5832c",
   "outputs": [
    {
     "data": {
      "text/plain": [
       "array([0., 0., 0., 0., 0., 0., 0., 0., 0., 0., 0., 0., 0., 0., 0., 0., 0.,\n",
       "       0., 1., 0., 0., 0., 0., 0., 0., 0., 0., 0.], dtype=float32)"
      ]
     },
     "execution_count": 27,
     "metadata": {},
     "output_type": "execute_result"
    }
   ],
   "execution_count": 27
  },
  {
   "metadata": {
    "ExecuteTime": {
     "end_time": "2025-08-22T18:36:32.458588Z",
     "start_time": "2025-08-22T18:36:32.357308Z"
    }
   },
   "cell_type": "code",
   "source": "np.argmax(model.predict(my_image.reshape(1, 64, 64, 3)))",
   "id": "deaefeb7bef124ce",
   "outputs": [
    {
     "name": "stdout",
     "output_type": "stream",
     "text": [
      "\u001B[1m1/1\u001B[0m \u001B[32m━━━━━━━━━━━━━━━━━━━━\u001B[0m\u001B[37m\u001B[0m \u001B[1m0s\u001B[0m 51ms/step\n"
     ]
    },
    {
     "data": {
      "text/plain": [
       "np.int64(16)"
      ]
     },
     "execution_count": 28,
     "metadata": {},
     "output_type": "execute_result"
    }
   ],
   "execution_count": 28
  },
  {
   "metadata": {},
   "cell_type": "code",
   "outputs": [],
   "execution_count": null,
   "source": "",
   "id": "79a1500ce104b689"
  }
 ],
 "metadata": {
  "kernelspec": {
   "display_name": "Python 3",
   "language": "python",
   "name": "python3"
  },
  "language_info": {
   "codemirror_mode": {
    "name": "ipython",
    "version": 2
   },
   "file_extension": ".py",
   "mimetype": "text/x-python",
   "name": "python",
   "nbconvert_exporter": "python",
   "pygments_lexer": "ipython2",
   "version": "2.7.6"
  }
 },
 "nbformat": 4,
 "nbformat_minor": 5
}
