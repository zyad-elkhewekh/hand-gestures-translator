{
 "cells": [
  {
   "cell_type": "code",
   "id": "initial_id",
   "metadata": {
    "collapsed": true,
    "ExecuteTime": {
     "end_time": "2025-08-23T20:19:23.198479Z",
     "start_time": "2025-08-23T20:19:16.869970Z"
    }
   },
   "source": [
    "from tensorflow import keras\n",
    "\n",
    "model = keras.models.load_model(\"my_final_model.h5\")"
   ],
   "outputs": [],
   "execution_count": 1
  },
  {
   "metadata": {
    "ExecuteTime": {
     "end_time": "2025-08-23T20:31:56.072298Z",
     "start_time": "2025-08-23T20:31:06.389309Z"
    }
   },
   "cell_type": "code",
   "source": [
    "import time\n",
    "import cv2\n",
    "import mediapipe as mp\n",
    "import numpy as np\n",
    "\n",
    "labels = [\"A\", \"B\", \"C\", \"D\", \"E\", \"F\", \"G\", \"H\", \"I\", \"J\", \"K\", \"L\", \"M\", \"N\", \"O\",\n",
    "          \"P\", \"Q\", \"R\", \"S\", \"T\", \"U\", \"V\", \"W\", \"X\", \"Y\", \"Z\"]\n",
    "\n",
    "last_pred_time = 0\n",
    "prediction_delay = 2\n",
    "\n",
    "mp_drawing = mp.solutions.drawing_utils\n",
    "# mp.solutions.drawing_utils --> gives convenience functions to draw landmarks & connections.\n",
    "\n",
    "mp_hands = mp.solutions.hands\n",
    "# mp.solutions.hands --> is the Hands solution (the model + post-processing API).\n",
    "\n",
    "cap = cv2.VideoCapture(0)\n",
    "# opens the laptop camera and Returns a capture object you’ll read frames from.\n",
    "\n",
    "with mp_hands.Hands(min_detection_confidence=0.5, min_tracking_confidence=0.5) as hands:\n",
    "    # min_detection_confidence --> threshold to accept an initial hand detection.\n",
    "    # min_tracking_confidence --> threshold to keep tracking a hand across frames.\n",
    "    while cap.isOpened(): # Run a loop as long as the camera is open\n",
    "        ret, frame = cap.read() # ret is True if the cam reads, frame is a NumPy array (image) in BGR color (OpenCV default).\n",
    "        frame = cv2.flip(frame, 1) # flip the camera to be like a mirror.\n",
    "        if not ret:\n",
    "            break  # the camera failed to operate or ended so will exit the loop.\n",
    "\n",
    "        image = cv2.cvtColor(frame, cv2.COLOR_BGR2RGB) # openCV returns BGR but we want RGB for mediapipe so we convert.\n",
    "        results = hands.process(image) # results --> is a list of 21 landmarks per detected hand.\n",
    "        image = cv2.cvtColor(image, cv2.COLOR_RGB2BGR) # returning back to BRG so openCV can display.\n",
    "\n",
    "        if results.multi_hand_landmarks:\n",
    "            for hand_landmarks in results.multi_hand_landmarks:\n",
    "                mp_drawing.draw_landmarks(image, hand_landmarks, )\n",
    "\n",
    "            current_time = time.time()\n",
    "            if current_time - last_pred_time > prediction_delay:\n",
    "                resized = cv2.resize(image, (128, 128))\n",
    "                normalized = resized.astype(\"float32\") / 255.0\n",
    "                input_data = np.expand_dims(normalized, axis=0)\n",
    "\n",
    "                preds = model.predict(input_data, verbose=0)\n",
    "                pred_class = np.argmax(preds)\n",
    "                prediction_text = labels[pred_class]\n",
    "\n",
    "                print(\"Prediction:\", prediction_text)\n",
    "                last_pred_time = current_time\n",
    "        # if hand is detected draw the 21 landmarks(hand_landmarks) and connections (.HAND_CONNECTIONS)\n",
    "\n",
    "        cv2.imshow('Robotech', image) # open the window and display\n",
    "        if cv2.waitKey(5) & 0xFF == 27:\n",
    "            break\n",
    "\n",
    "cap.release()\n",
    "cv2.destroyAllWindows()"
   ],
   "id": "41dff6438059ce71",
   "outputs": [
    {
     "name": "stdout",
     "output_type": "stream",
     "text": [
      "Prediction: M\n",
      "Prediction: X\n",
      "Prediction: X\n",
      "Prediction: X\n",
      "Prediction: M\n",
      "Prediction: B\n",
      "Prediction: M\n",
      "Prediction: P\n",
      "Prediction: X\n",
      "Prediction: X\n"
     ]
    }
   ],
   "execution_count": 4
  },
  {
   "metadata": {},
   "cell_type": "code",
   "outputs": [],
   "execution_count": null,
   "source": "",
   "id": "6fa7588136641eeb"
  }
 ],
 "metadata": {
  "kernelspec": {
   "display_name": "Python 3",
   "language": "python",
   "name": "python3"
  },
  "language_info": {
   "codemirror_mode": {
    "name": "ipython",
    "version": 2
   },
   "file_extension": ".py",
   "mimetype": "text/x-python",
   "name": "python",
   "nbconvert_exporter": "python",
   "pygments_lexer": "ipython2",
   "version": "2.7.6"
  }
 },
 "nbformat": 4,
 "nbformat_minor": 5
}
